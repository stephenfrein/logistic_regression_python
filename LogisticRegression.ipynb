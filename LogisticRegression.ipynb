{
  "nbformat": 4,
  "nbformat_minor": 0,
  "metadata": {
    "colab": {
      "name": "LogisticRegression.ipynb",
      "provenance": [],
      "collapsed_sections": [],
      "authorship_tag": "ABX9TyNeHHjGJ9JwENU8MKXkrcPs",
      "include_colab_link": true
    },
    "kernelspec": {
      "name": "python3",
      "display_name": "Python 3"
    }
  },
  "cells": [
    {
      "cell_type": "markdown",
      "metadata": {
        "id": "view-in-github",
        "colab_type": "text"
      },
      "source": [
        "<a href=\"https://colab.research.google.com/github/stephenfrein/logistic_regression_python/blob/master/LogisticRegression.ipynb\" target=\"_parent\"><img src=\"https://colab.research.google.com/assets/colab-badge.svg\" alt=\"Open In Colab\"/></a>"
      ]
    },
    {
      "cell_type": "markdown",
      "metadata": {
        "id": "MuzNVuCHDRqX",
        "colab_type": "text"
      },
      "source": [
        "# Logistic Regression in Python\n",
        "---\n",
        "This is the code for the \"Logistic Regression in Python\" Peer Learning Session."
      ]
    },
    {
      "cell_type": "markdown",
      "metadata": {
        "id": "LaazYjFsRKk_",
        "colab_type": "text"
      },
      "source": [
        "# Load and Examine Data\n",
        "\n",
        "To get things started, we'll load some CSV data about diabetes from a URL into a data frame (good for holding tabular data)."
      ]
    },
    {
      "cell_type": "code",
      "metadata": {
        "id": "x8h1dXk7RQAF",
        "colab_type": "code",
        "colab": {}
      },
      "source": [
        "# it's conventional to alias pandas as pd once imported\n",
        "import pandas as pd\n",
        "url=\"https://drive.google.com/uc?export=download&id=1ZbLGkNQwMfvVNu0WaxNj8HOBRS1kbLDS\"\n",
        "# pandas will read this data into a DataFrame, the typical pandas data structure\n",
        "diabetes_raw=pd.read_csv(url)\n",
        "diabetes_raw.head()\n"
      ],
      "execution_count": 0,
      "outputs": []
    },
    {
      "cell_type": "code",
      "metadata": {
        "id": "NC84Fa9jVUdi",
        "colab_type": "code",
        "colab": {}
      },
      "source": [
        "# examine statistics about data\n",
        "diabetes_raw.describe(include='all')"
      ],
      "execution_count": 0,
      "outputs": []
    },
    {
      "cell_type": "code",
      "metadata": {
        "id": "o5QiDw3PWJ-L",
        "colab_type": "code",
        "colab": {}
      },
      "source": [
        "# base rates of Outcome (1 = has diabetes, 0 = does not)\n",
        "print(diabetes_raw['Outcome'].value_counts(normalize=True))"
      ],
      "execution_count": 0,
      "outputs": []
    },
    {
      "cell_type": "code",
      "metadata": {
        "id": "16XBZG9ksKn5",
        "colab_type": "code",
        "colab": {}
      },
      "source": [
        ""
      ],
      "execution_count": 0,
      "outputs": []
    },
    {
      "cell_type": "code",
      "metadata": {
        "id": "fbi13vbuXHSS",
        "colab_type": "code",
        "colab": {}
      },
      "source": [
        "# seaborn is a visualization library\n",
        "import seaborn as sn\n",
        "# create a matrix of correlations between variables\n",
        "corrMatrix = diabetes_raw.corr()\n",
        "print(corrMatrix)\n",
        "# generate a heeatmap based on correlation matrix\n",
        "sn.heatmap(corrMatrix, annot=True)"
      ],
      "execution_count": 0,
      "outputs": []
    },
    {
      "cell_type": "markdown",
      "metadata": {
        "id": "4uPnpiKGdvap",
        "colab_type": "text"
      },
      "source": [
        "<img src=\"https://i.ya-webdesign.com/images/start-race-runner-icon-png-1.png\" width=\"100\" />\n",
        "\n",
        "#Exercise 1\n",
        "\n",
        "Age is most correlated with what other variable? (Put your answer in Chat.)"
      ]
    },
    {
      "cell_type": "markdown",
      "metadata": {
        "id": "LHksijC6ap7o",
        "colab_type": "text"
      },
      "source": [
        "# Training/Test Split\n",
        "\n",
        "We will break our data into **training** and **test** sets\n",
        "\n",
        "*   Training set is used to build model – what X values explain our Y?\n",
        "*   Test set allows us to check our model against data it has never “seen” and allows us to estimate its performance against future data\n",
        "\n",
        "Other methods involve use of cross-validation and validation sets so we can tune models without compromising independence of test data (but we won’t go there today)\n",
        "\n",
        "![Training and Test Data](https://lh3.googleusercontent.com/proxy/kLwjNB7rdsIHbpQpKdkRLxIF1tD6zep857pMB0HGLE5qCEunPajE0in6FtQkoYwVniZyWPyzVu5YdEI6omPflvOOf-fH2vB4lhfF7pKU0X96Bn5YgVrfv9wX)\n"
      ]
    },
    {
      "cell_type": "code",
      "metadata": {
        "id": "Sg8xLCiEaNfu",
        "colab_type": "code",
        "colab": {}
      },
      "source": [
        "# predictor variables - all but column called Outcome\n",
        "X = diabetes_raw.drop(\"Outcome\",1)\n",
        "# target variable\n",
        "y = diabetes_raw.Outcome\n",
        "\n",
        "# need subsetting tools \n",
        "from sklearn.model_selection import train_test_split\n",
        "# split into training (70%) and test (30%) sets\n",
        "X_train, X_test, y_train, y_test = train_test_split(X, y, test_size=0.3, random_state=123)\n",
        "\n",
        "print(X_train.head())\n",
        "print(X_test.head())\n",
        "print(y_train.head())\n",
        "\n"
      ],
      "execution_count": 0,
      "outputs": []
    },
    {
      "cell_type": "markdown",
      "metadata": {
        "colab_type": "text",
        "id": "pupGyxRLhE0o"
      },
      "source": [
        "<img src=\"https://i.ya-webdesign.com/images/start-race-runner-icon-png-1.png\" width=\"100\" />\n",
        "\n",
        "#Exercise 2\n",
        "\n",
        "Did the random split create data sets that are very different? Since we know glucose seems to be related to diabetes diagnosis, check the average glucose value for both X_train and X_test. Are the two pretty close together (say, within a few points)?"
      ]
    },
    {
      "cell_type": "code",
      "metadata": {
        "id": "slYA3gf_iecU",
        "colab_type": "code",
        "colab": {}
      },
      "source": [
        "# check the average glucose values for your training and test sets - remember how we saw stats for a data frame earlier\n",
        "# write your code in this box below"
      ],
      "execution_count": 0,
      "outputs": []
    },
    {
      "cell_type": "markdown",
      "metadata": {
        "id": "crs6b6FujZ1S",
        "colab_type": "text"
      },
      "source": [
        "# Build a Logistic Regression Model"
      ]
    },
    {
      "cell_type": "code",
      "metadata": {
        "id": "4EUEfWp0jdwi",
        "colab_type": "code",
        "colab": {}
      },
      "source": [
        "# import Logistic Regression classifier\n",
        "from sklearn.linear_model import LogisticRegression\n",
        "# create new instannce of the classifier\n",
        "logistic_regresssion = LogisticRegression(max_iter=200)\n",
        "# fit the model to the training data\n",
        "logistic_regresssion.fit(X_train,y_train)\n",
        "# check the model output\n",
        "print(X_train.columns)\n",
        "print(logistic_regresssion.coef_)"
      ],
      "execution_count": 0,
      "outputs": []
    },
    {
      "cell_type": "markdown",
      "metadata": {
        "id": "SlqXyteEpmBC",
        "colab_type": "text"
      },
      "source": [
        "# Make Predictions and Evaluate Your Model"
      ]
    },
    {
      "cell_type": "code",
      "metadata": {
        "id": "HWuokr9bpppk",
        "colab_type": "code",
        "colab": {}
      },
      "source": [
        "# make predictions\n",
        "y_pred = logistic_regresssion.predict(X_test)\n",
        "print(y_pred)"
      ],
      "execution_count": 0,
      "outputs": []
    },
    {
      "cell_type": "code",
      "metadata": {
        "id": "Q9Mrcu8YuLMZ",
        "colab_type": "code",
        "colab": {}
      },
      "source": [
        "# create confusion matrix\n",
        "from sklearn import metrics\n",
        "import matplotlib.pyplot as plt\n",
        "conf_matrix=metrics.confusion_matrix(y_test, y_pred)\n",
        "sn.heatmap(conf_matrix, annot=True)\n",
        "plt.ylabel('Actual label')\n",
        "plt.xlabel('Predicted label')"
      ],
      "execution_count": 0,
      "outputs": []
    },
    {
      "cell_type": "markdown",
      "metadata": {
        "id": "15sIs5rkvAjC",
        "colab_type": "text"
      },
      "source": [
        "Remember: 1 = diabetes, 0 = no diabetes"
      ]
    },
    {
      "cell_type": "markdown",
      "metadata": {
        "id": "7zKbBUAvurpp",
        "colab_type": "text"
      },
      "source": [
        "# Accuracy Metrics\n",
        "\n",
        "**Accuracy:** How often were you right?\n",
        "\n",
        "**Precison:** When you predicted your target class (diabetes), how often were you right?\n",
        "\n",
        "**Recall:** Of all the examples of your target class (diabetees), how many did you find? \n",
        "\n",
        "**F1 Score:** Harmonic mean of precision and recall - a kind of \"average\" that inclines toward the lower number (so you raise it by balancing precison and recall)."
      ]
    },
    {
      "cell_type": "code",
      "metadata": {
        "id": "H7UGyDEstdH-",
        "colab_type": "code",
        "colab": {}
      },
      "source": [
        "# see accuracy metrics\n",
        "print(\"Accuracy:\",metrics.accuracy_score(y_test, y_pred))\n",
        "print(\"Precision:\",metrics.precision_score(y_test, y_pred))\n",
        "print(\"Recall:\",metrics.recall_score(y_test, y_pred))\n",
        "print(\"F1 Score:\",metrics.f1_score(y_test, y_pred))"
      ],
      "execution_count": 0,
      "outputs": []
    },
    {
      "cell_type": "markdown",
      "metadata": {
        "id": "UGHIuNzYw8kP",
        "colab_type": "text"
      },
      "source": [
        "# Predict Single Example\n"
      ]
    },
    {
      "cell_type": "code",
      "metadata": {
        "id": "ZOJ3SffJxAMj",
        "colab_type": "code",
        "colab": {}
      },
      "source": [
        "#             Pregnancies\tGlucose\tBloodPressure\tSkinThickness\tInsulin\tBMI\t  DiabetesPedigreeFunction\tAge\n",
        "new_case = [  3,          141,    74,           31,           38,     31.4, 0.592,                    48]\n",
        "import numpy as np\n",
        "new_case = np.array(new_case)\n",
        "print(logistic_regresssion.predict(new_case.reshape(1, -1)))\n"
      ],
      "execution_count": 0,
      "outputs": []
    },
    {
      "cell_type": "code",
      "metadata": {
        "id": "Y14tlje82can",
        "colab_type": "code",
        "colab": {}
      },
      "source": [
        "# show probability of 0 (no diabetes) and 1 (diabetes)\n",
        "print(logistic_regresssion.predict_proba(new_case.reshape(1, -1)))"
      ],
      "execution_count": 0,
      "outputs": []
    },
    {
      "cell_type": "markdown",
      "metadata": {
        "colab_type": "text",
        "id": "dpbqof5CzzSz"
      },
      "source": [
        "<img src=\"https://i.ya-webdesign.com/images/start-race-runner-icon-png-1.png\" width=\"100\" />\n",
        "\n",
        "#Exercise 3\n",
        "\n",
        "What if the patient above had a glucose level of 81? What prediction would we make for that person? What is their probability of having diabetes?"
      ]
    },
    {
      "cell_type": "code",
      "metadata": {
        "id": "0gFtFphRz_Ae",
        "colab_type": "code",
        "colab": {}
      },
      "source": [
        "# make prediction for the same patient if their glucose level were 81\n",
        "\n",
        "# what is their probability of having diabetes\n"
      ],
      "execution_count": 0,
      "outputs": []
    },
    {
      "cell_type": "markdown",
      "metadata": {
        "id": "5eYyOO9j0keZ",
        "colab_type": "text"
      },
      "source": [
        "# Set a Different Threshold\n",
        "\n",
        "The current model uses a prediction threshold of 0.50. If the value is greater than this, the person is predicted to be in the 1 (diabetes) class.\n",
        "\n",
        "What if we want to use a different threshold to alter the chances of false negatives? We want higher recall (find all the cases) at the expense of lower precision (flagging more people without diabetes)."
      ]
    },
    {
      "cell_type": "code",
      "metadata": {
        "id": "3nV0n_Op08Z4",
        "colab_type": "code",
        "colab": {}
      },
      "source": [
        "new_threshold = 0.45\n",
        "preds_new_threshold = np.where(logistic_regresssion.predict_proba(X_test)[:,1] > new_threshold, 1, 0)\n",
        "# see accuracy metrics\n",
        "print(\"Accuracy:\",metrics.accuracy_score(y_test, preds_new_threshold))\n",
        "print(\"Precision:\",metrics.precision_score(y_test, preds_new_threshold))\n",
        "print(\"Recall:\",metrics.recall_score(y_test, preds_new_threshold))\n",
        "print(\"F1 Score:\",metrics.f1_score(y_test, preds_new_threshold))"
      ],
      "execution_count": 0,
      "outputs": []
    },
    {
      "cell_type": "markdown",
      "metadata": {
        "colab_type": "text",
        "id": "alcyhweY3ck3"
      },
      "source": [
        "<img src=\"https://i.ya-webdesign.com/images/start-race-runner-icon-png-1.png\" width=\"100\" />\n",
        "\n",
        "#Exercise 4\n",
        "\n",
        "Imagine that patients who are believed to have diabetes will be put through a rigorous and expensive treatment program so you want to be very sure that flagged patients have diabetes. Change your threshold so as to increase your precision."
      ]
    },
    {
      "cell_type": "code",
      "metadata": {
        "id": "_eHdrMDR36jv",
        "colab_type": "code",
        "colab": {}
      },
      "source": [
        "# make your predictions with higher precision"
      ],
      "execution_count": 0,
      "outputs": []
    }
  ]
}